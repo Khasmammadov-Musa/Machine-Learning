{
  "nbformat": 4,
  "nbformat_minor": 0,
  "metadata": {
    "colab": {
      "provenance": [],
      "authorship_tag": "ABX9TyOgKtONZsyTIs3byJ9olmvX",
      "include_colab_link": true
    },
    "kernelspec": {
      "name": "python3",
      "display_name": "Python 3"
    },
    "language_info": {
      "name": "python"
    }
  },
  "cells": [
    {
      "cell_type": "markdown",
      "metadata": {
        "id": "view-in-github",
        "colab_type": "text"
      },
      "source": [
        "<a href=\"https://colab.research.google.com/github/databyhuseyn/MachineLearning/blob/main/LazyModels.ipynb\" target=\"_parent\"><img src=\"https://colab.research.google.com/assets/colab-badge.svg\" alt=\"Open In Colab\"/></a>"
      ]
    },
    {
      "cell_type": "code",
      "execution_count": null,
      "metadata": {
        "id": "82tLyZ-BUaDt"
      },
      "outputs": [],
      "source": [
        "from sklearn.datasets import fetch_california_housing"
      ]
    },
    {
      "cell_type": "code",
      "source": [
        "df = fetch_california_housing(as_frame=True)"
      ],
      "metadata": {
        "id": "BhpoCFQsUd5X"
      },
      "execution_count": null,
      "outputs": []
    },
    {
      "cell_type": "code",
      "source": [
        "X = df.data\n",
        "y = df.target"
      ],
      "metadata": {
        "id": "7296lZMqUo7d"
      },
      "execution_count": null,
      "outputs": []
    },
    {
      "cell_type": "code",
      "source": [
        "!pip install lazypredict"
      ],
      "metadata": {
        "colab": {
          "base_uri": "https://localhost:8080/"
        },
        "id": "y5xgzR0_UvNd",
        "outputId": "42519c3a-e10e-4d6b-9d24-c15680488da1"
      },
      "execution_count": null,
      "outputs": [
        {
          "output_type": "stream",
          "name": "stdout",
          "text": [
            "Collecting lazypredict\n",
            "  Downloading lazypredict-0.2.13-py2.py3-none-any.whl.metadata (12 kB)\n",
            "Requirement already satisfied: click in /usr/local/lib/python3.11/dist-packages (from lazypredict) (8.1.8)\n",
            "Requirement already satisfied: scikit-learn in /usr/local/lib/python3.11/dist-packages (from lazypredict) (1.6.1)\n",
            "Requirement already satisfied: pandas in /usr/local/lib/python3.11/dist-packages (from lazypredict) (2.2.2)\n",
            "Requirement already satisfied: tqdm in /usr/local/lib/python3.11/dist-packages (from lazypredict) (4.67.1)\n",
            "Requirement already satisfied: joblib in /usr/local/lib/python3.11/dist-packages (from lazypredict) (1.4.2)\n",
            "Requirement already satisfied: lightgbm in /usr/local/lib/python3.11/dist-packages (from lazypredict) (4.5.0)\n",
            "Requirement already satisfied: xgboost in /usr/local/lib/python3.11/dist-packages (from lazypredict) (2.1.4)\n",
            "Requirement already satisfied: numpy>=1.17.0 in /usr/local/lib/python3.11/dist-packages (from lightgbm->lazypredict) (2.0.2)\n",
            "Requirement already satisfied: scipy in /usr/local/lib/python3.11/dist-packages (from lightgbm->lazypredict) (1.14.1)\n",
            "Requirement already satisfied: python-dateutil>=2.8.2 in /usr/local/lib/python3.11/dist-packages (from pandas->lazypredict) (2.8.2)\n",
            "Requirement already satisfied: pytz>=2020.1 in /usr/local/lib/python3.11/dist-packages (from pandas->lazypredict) (2025.1)\n",
            "Requirement already satisfied: tzdata>=2022.7 in /usr/local/lib/python3.11/dist-packages (from pandas->lazypredict) (2025.1)\n",
            "Requirement already satisfied: threadpoolctl>=3.1.0 in /usr/local/lib/python3.11/dist-packages (from scikit-learn->lazypredict) (3.6.0)\n",
            "Requirement already satisfied: nvidia-nccl-cu12 in /usr/local/lib/python3.11/dist-packages (from xgboost->lazypredict) (2.21.5)\n",
            "Requirement already satisfied: six>=1.5 in /usr/local/lib/python3.11/dist-packages (from python-dateutil>=2.8.2->pandas->lazypredict) (1.17.0)\n",
            "Downloading lazypredict-0.2.13-py2.py3-none-any.whl (12 kB)\n",
            "Installing collected packages: lazypredict\n",
            "Successfully installed lazypredict-0.2.13\n"
          ]
        }
      ]
    },
    {
      "cell_type": "code",
      "source": [
        "from sklearn.model_selection import train_test_split"
      ],
      "metadata": {
        "id": "55BrpMIQU1LW"
      },
      "execution_count": null,
      "outputs": []
    },
    {
      "cell_type": "code",
      "source": [
        "X_train, X_test, y_train, y_test = train_test_split(X, y, test_size=0.2)"
      ],
      "metadata": {
        "id": "jxvtZEDRU41I"
      },
      "execution_count": null,
      "outputs": []
    },
    {
      "cell_type": "code",
      "source": [
        "from lazypredict.Supervised import LazyRegressor"
      ],
      "metadata": {
        "id": "JlTdzbpAU_A0"
      },
      "execution_count": null,
      "outputs": []
    },
    {
      "cell_type": "code",
      "source": [
        "len(X_train)"
      ],
      "metadata": {
        "colab": {
          "base_uri": "https://localhost:8080/"
        },
        "id": "45I3c7VIVrNb",
        "outputId": "4d83bb26-d73e-40c2-dd3b-e5359427337c"
      },
      "execution_count": null,
      "outputs": [
        {
          "output_type": "execute_result",
          "data": {
            "text/plain": [
              "16512"
            ]
          },
          "metadata": {},
          "execution_count": 8
        }
      ]
    },
    {
      "cell_type": "code",
      "source": [
        "reg = LazyRegressor(verbose=0, ignore_warnings=False, custom_metric=None)\n",
        "models, predictions = reg.fit(X_train[:1000], X_test[:1000], y_train[:1000], y_test[:1000])\n",
        "\n",
        "print(models)"
      ],
      "metadata": {
        "colab": {
          "base_uri": "https://localhost:8080/"
        },
        "id": "cyI6ukaxVIGP",
        "outputId": "99003b5e-e4d6-47c8-8c55-f99822ccabb3"
      },
      "execution_count": null,
      "outputs": [
        {
          "output_type": "stream",
          "name": "stderr",
          "text": [
            "100%|██████████| 42/42 [00:05<00:00,  7.44it/s]"
          ]
        },
        {
          "output_type": "stream",
          "name": "stdout",
          "text": [
            "[LightGBM] [Info] Auto-choosing col-wise multi-threading, the overhead of testing was 0.000459 seconds.\n",
            "You can set `force_col_wise=true` to remove the overhead.\n",
            "[LightGBM] [Info] Total Bins 1832\n",
            "[LightGBM] [Info] Number of data points in the train set: 1000, number of used features: 8\n",
            "[LightGBM] [Info] Start training from score 2.085068\n",
            "                               Adjusted R-Squared  R-Squared  RMSE  Time Taken\n",
            "Model                                                                         \n",
            "HistGradientBoostingRegressor                0.74       0.74  0.56        0.28\n",
            "LGBMRegressor                                0.73       0.73  0.57        0.18\n",
            "GradientBoostingRegressor                    0.73       0.73  0.58        0.44\n",
            "XGBRegressor                                 0.71       0.72  0.59        0.30\n",
            "MLPRegressor                                 0.70       0.70  0.60        0.72\n",
            "ExtraTreesRegressor                          0.70       0.70  0.60        0.43\n",
            "NuSVR                                        0.69       0.69  0.61        0.20\n",
            "SVR                                          0.69       0.69  0.62        0.12\n",
            "RandomForestRegressor                        0.67       0.67  0.63        1.03\n",
            "BaggingRegressor                             0.63       0.64  0.67        0.12\n",
            "KNeighborsRegressor                          0.63       0.63  0.67        0.03\n",
            "HuberRegressor                               0.60       0.61  0.69        0.02\n",
            "RidgeCV                                      0.60       0.61  0.69        0.01\n",
            "BayesianRidge                                0.60       0.61  0.69        0.05\n",
            "Ridge                                        0.60       0.61  0.69        0.02\n",
            "TransformedTargetRegressor                   0.60       0.61  0.70        0.02\n",
            "LassoLarsIC                                  0.60       0.61  0.70        0.01\n",
            "Lars                                         0.60       0.61  0.70        0.05\n",
            "LinearRegression                             0.60       0.61  0.70        0.01\n",
            "OrthogonalMatchingPursuitCV                  0.60       0.60  0.70        0.03\n",
            "SGDRegressor                                 0.60       0.60  0.70        0.01\n",
            "LassoCV                                      0.60       0.60  0.70        0.24\n",
            "LassoLarsCV                                  0.60       0.60  0.70        0.03\n",
            "ElasticNetCV                                 0.60       0.60  0.70        0.09\n",
            "LinearSVR                                    0.60       0.60  0.70        0.03\n",
            "LarsCV                                       0.60       0.60  0.70        0.05\n",
            "RANSACRegressor                              0.52       0.53  0.76        0.18\n",
            "AdaBoostRegressor                            0.50       0.51  0.78        0.23\n",
            "PoissonRegressor                             0.47       0.47  0.80        0.02\n",
            "OrthogonalMatchingPursuit                    0.42       0.42  0.84        0.02\n",
            "TweedieRegressor                             0.39       0.39  0.86        0.02\n",
            "GammaRegressor                               0.38       0.39  0.87        0.03\n",
            "DecisionTreeRegressor                        0.38       0.38  0.87        0.02\n",
            "ExtraTreeRegressor                           0.32       0.32  0.91        0.02\n",
            "ElasticNet                                   0.15       0.15  1.02        0.01\n",
            "DummyRegressor                              -0.01      -0.00  1.11        0.01\n",
            "Lasso                                       -0.01      -0.00  1.11        0.02\n",
            "LassoLars                                   -0.01      -0.00  1.11        0.01\n",
            "QuantileRegressor                           -0.04      -0.03  1.12        0.15\n",
            "GaussianProcessRegressor                    -0.42      -0.41  1.31        0.27\n",
            "PassiveAggressiveRegressor                  -0.68      -0.67  1.43        0.02\n",
            "KernelRidge                                 -2.85      -2.82  2.16        0.09\n"
          ]
        },
        {
          "output_type": "stream",
          "name": "stderr",
          "text": [
            "\n"
          ]
        }
      ]
    },
    {
      "cell_type": "code",
      "source": [
        "len(models)"
      ],
      "metadata": {
        "colab": {
          "base_uri": "https://localhost:8080/"
        },
        "id": "Mro5KVKyVTNO",
        "outputId": "aaafd67d-a1f8-49ce-f4e0-6f93815cf7bb"
      },
      "execution_count": null,
      "outputs": [
        {
          "output_type": "execute_result",
          "data": {
            "text/plain": [
              "42"
            ]
          },
          "metadata": {},
          "execution_count": 10
        }
      ]
    },
    {
      "cell_type": "code",
      "source": [],
      "metadata": {
        "id": "VBgHVq7dXmWT"
      },
      "execution_count": null,
      "outputs": []
    }
  ]
}